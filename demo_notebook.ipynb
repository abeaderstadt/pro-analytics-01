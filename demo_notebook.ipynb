{
 "cells": [
  {
   "attachments": {},
   "cell_type": "markdown",
   "metadata": {},
   "source": [
    "# Denise Case Notebook - Intro to Jupyter Notebooks\n",
    "\n",
    "TODO: Create a standard header for your notebooks with your company/name/alias and a link to the repo.\n",
    "\n",
    "- Author: [Denise Case](https://github.com/denisecase/)\n",
    "- Repository: [pro-analytics-01](https://github.com/denisecase/pro-analytics-01/)"
   ]
  },
  {
   "cell_type": "markdown",
   "metadata": {},
   "source": [
    "## Section 1. Getting Started\n",
    "\n",
    "This is a Markdown cell (not a Python cell). \n",
    "Here are a few tips to help you get started with Jupyter Notebooks:\n",
    "\n",
    "- To run a cell, press **Ctrl+Enter** (or **Cmd+Enter** on Mac) when you're done editing the cell.\n",
    "- You can change the type of a cell (e.g., code or markdown) by looking in the lower left corner of the notebook interface.\n",
    "- You can rearrange cells by dragging and dropping them within the notebook.\n",
    "- After creating a new notebook, use **File > Save as** to rename and save it into your repository folder.\n",
    "- To select a kernel (Python environment) for your notebook in Visual Studio Code, click on the **Select Kernel** name in the top-right corner of the notebook interface and choose the desired kernel from the dropdown menu. Follow suggestions to install recommended extensions. Once installed, click Select Kernel / Python Environments and choose the Recommended `.venv` option we created earlier. This will create a new kernel for the notebook and allow you to run code in the notebook using the packages installed in the virtual environment.\n"
   ]
  },
  {
   "cell_type": "markdown",
   "metadata": {},
   "source": [
    "## Section 2. Imports\n",
    "\n",
    "This is a Markdown cell. "
   ]
  },
  {
   "cell_type": "code",
   "execution_count": 6,
   "metadata": {},
   "outputs": [],
   "source": [
    "# Imports still go at the top. This is a Python cell.\n",
    "\n",
    "# Import from external packages\n",
    "''' NOTE: Sometimes the code runs fine, even though static analysis fails \n",
    " to recognize the external package is available in the .venv kernel.\n",
    " IF the package has been installed in .venv and you want to \n",
    " get rid of the squiggly underline warning, \n",
    " click the lightbulb and select the first option - it \n",
    " will add a comment to ignore this type of warning as shown below:\n",
    "'''\n",
    "import matplotlib.pyplot as plt # type: ignore\n"
   ]
  },
  {
   "cell_type": "markdown",
   "metadata": {},
   "source": [
    "## Section 3. Analysis and Visualization\n",
    "\n",
    "This is a Markdown cell. "
   ]
  },
  {
   "cell_type": "code",
   "execution_count": 7,
   "metadata": {},
   "outputs": [
    {
     "data": {
      "image/png": "[encoded data removed]",
      "text/plain": [
       "<Figure size 640x480 with 1 Axes>"
      ]
     },
     "metadata": {},
     "output_type": "display_data"
    }
   ],
   "source": [
    "# This is a Python cell\n",
    "\n",
    "# Declare and initialize a simple list of favorite soda brands and their counts\n",
    "sodas = [\"Coke\", \"Pepsi\", \"Fanta\", \"Sunkist\", \"Sprite\"]\n",
    "counts = [9, 8, 3, 2, 5]\n",
    "\n",
    "# Create a bar chart using matplotlib\n",
    "plt.bar(sodas, counts, color=[\"red\", \"blue\", \"orange\", \"yellow\", \"purple\"])\n",
    "plt.title(\"Favorite Sodas\")\n",
    "plt.ylabel(\"Count\")\n",
    "plt.show()"
   ]
  },
  {
   "attachments": {},
   "cell_type": "markdown",
   "metadata": {},
   "source": [
    "## Section 4. Reminder: Run All before sending to GitHub\n",
    "\n",
    "Before committing a notebook, use 'Run All' to generate all outputs and display them in the notebook. Verify everything looks right before using git add-commit-push to save your work to GitHub.\n",
    "This is a Markdown cell."
   ]
  },
  {
   "cell_type": "markdown",
   "metadata": {},
   "source": []
  }
 ],
 "metadata": {
  "kernelspec": {
   "display_name": ".venv",
   "language": "python",
   "name": "python3"
  },
  "language_info": {
   "codemirror_mode": {
    "name": "ipython",
    "version": 3
   },
   "file_extension": ".py",
   "mimetype": "text/x-python",
   "name": "python",
   "nbconvert_exporter": "python",
   "pygments_lexer": "ipython3",
   "version": "3.13.1"
  },
  "orig_nbformat": 4
 },
 "nbformat": 4,
 "nbformat_minor": 2
}
